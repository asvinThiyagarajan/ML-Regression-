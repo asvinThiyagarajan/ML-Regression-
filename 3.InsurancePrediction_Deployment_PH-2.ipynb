{
 "cells": [
  {
   "cell_type": "code",
   "execution_count": 4,
   "id": "d72ceb6b-6bc0-4a09-843d-bfc51b1befae",
   "metadata": {},
   "outputs": [
    {
     "name": "stdin",
     "output_type": "stream",
     "text": [
      "Your Age: 61\n",
      "Your BMI: 29\n",
      "How many children 0\n",
      "Your Gender: 0\n",
      "Smoker or not if smoker enter '1' else '0': 1\n"
     ]
    },
    {
     "name": "stdout",
     "output_type": "stream",
     "text": [
      "Insurance Charges : [[28140.102]]\n"
     ]
    },
    {
     "name": "stderr",
     "output_type": "stream",
     "text": [
      "C:\\Anaconda3\\Lib\\site-packages\\sklearn\\base.py:439: UserWarning: X does not have valid feature names, but StandardScaler was fitted with feature names\n",
      "  warnings.warn(\n"
     ]
    }
   ],
   "source": [
    "# Deployement Phase\n",
    "\n",
    "# Importing Required Libraries\n",
    "import pandas as pd\n",
    "import pickle \n",
    "import numpy as np\n",
    "\n",
    "# Importing Dataset \n",
    "dataset=pd.read_csv(\"insurance_pre.csv\")\n",
    "dataset=pd.get_dummies(dataset,drop_first=True)\n",
    "dataset=dataset.astype(int)\n",
    "\n",
    "# Input and Output dataset split\n",
    "independent=dataset[[\"age\",\"bmi\",\"children\",\"sex_male\",\"smoker_yes\"]]\n",
    "dependent=dataset[[\"charges\"]]\n",
    "# Preprocessing Input and Output dataset\n",
    "from sklearn.preprocessing import StandardScaler\n",
    "sc_X=StandardScaler()\n",
    "independent=sc_X.fit_transform(independent)\n",
    "\n",
    "from sklearn.preprocessing import StandardScaler\n",
    "sc_Y=StandardScaler()\n",
    "dependent=sc_Y.fit_transform(dependent)\n",
    "\n",
    "# Loading the Best Model\n",
    "import pickle\n",
    "loaded_model=pickle.load(open(\"FinalModel_InsurancePrediction.sav\",'rb'))\n",
    "# User Input\n",
    "age_in=int(input(\"Your Age:\"))\n",
    "bmi_in=int(input(\"Your BMI:\"))\n",
    "children_in=int(input(\"How many children\"))\n",
    "gender_in=int(input(\"Your Gender:\"))\n",
    "smoker_in=int(input(\"Smoker or not if smoker enter '1' else '0':\"))\n",
    "pre_input=sc_X.transform([[61,29,0,0,1]])\n",
    "result=loaded_model.predict(pre_input)\n",
    "pre_output=sc_Y.inverse_transform(result.reshape(-1,1))\n",
    "print(\"Insurance Charges :\",pre_output)"
   ]
  },
  {
   "cell_type": "code",
   "execution_count": null,
   "id": "79c5d0e0-f36e-4038-998e-1e86ac2535dc",
   "metadata": {},
   "outputs": [],
   "source": []
  }
 ],
 "metadata": {
  "kernelspec": {
   "display_name": "Python 3 (ipykernel)",
   "language": "python",
   "name": "python3"
  },
  "language_info": {
   "codemirror_mode": {
    "name": "ipython",
    "version": 3
   },
   "file_extension": ".py",
   "mimetype": "text/x-python",
   "name": "python",
   "nbconvert_exporter": "python",
   "pygments_lexer": "ipython3",
   "version": "3.11.7"
  }
 },
 "nbformat": 4,
 "nbformat_minor": 5
}
